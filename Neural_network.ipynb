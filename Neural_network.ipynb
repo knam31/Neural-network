{
  "nbformat": 4,
  "nbformat_minor": 0,
  "metadata": {
    "kernelspec": {
      "display_name": "Python 3",
      "language": "python",
      "name": "python3"
    },
    "language_info": {
      "codemirror_mode": {
        "name": "ipython",
        "version": 3
      },
      "file_extension": ".py",
      "mimetype": "text/x-python",
      "name": "python",
      "nbconvert_exporter": "python",
      "pygments_lexer": "ipython3",
      "version": "3.8.5"
    },
    "colab": {
      "name": "Neural network.ipynb",
      "provenance": [],
      "collapsed_sections": []
    }
  },
  "cells": [
    {
      "cell_type": "markdown",
      "metadata": {
        "id": "YAF2oMF_CLo7"
      },
      "source": [
        "# CS5950J Course Project\n",
        "\n",
        "The aim of the project is to give you the experience of trying to develop a neural network classifier (or regressor), involving setting up a model, optimising the amount of regularisation, investigating its performance, and devising a new model. \n",
        "\n"
      ]
    },
    {
      "cell_type": "code",
      "metadata": {
        "id": "Cx_JSJv5CLo_"
      },
      "source": [
        "import numpy as np\n",
        "\n",
        "import matplotlib.pyplot as plt\n",
        "import matplotlib.cm as cm  # colormaps\n",
        "\n",
        "%matplotlib inline\n",
        "import torch\n",
        "import torch.nn as nn\n",
        "import torch.nn.functional as F \n",
        "import torchvision\n",
        "import torchvision.datasets as datasets\n",
        "from torchvision import transforms\n",
        "import torch.optim as optim "
      ],
      "execution_count": null,
      "outputs": []
    },
    {
      "cell_type": "markdown",
      "metadata": {
        "id": "4TdLaY8OCLpC"
      },
      "source": [
        "## Set up dataset\n",
        "\n",
        "You may choose any of the datasets included with Pytorch, or used in the course so far (including, for example, the percolation data). (It is a free country and you may use any other data you wish.)\n",
        "\n",
        "A safe choice would be either the MNIST data or the MNIST-fashion data, which is a drop-in replacement for MNIST (same size data format, same number of classes, same number of training and test examples). \n",
        "\n",
        "A more interesting choice would be CIFAR-10\n",
        "\n",
        "In setting up the data, you should set up a training set and a test set. The test set should be large enough to give a reasonably accurate assessment of the error-rate (or loss) of your models: preferably at least 10,000 examples.\n",
        "\n",
        "For the learning curve experiment (below), you will need to construct training sets of different sizes, with the largest at least 10 times the smallest. For the MNIST data, for example, your smallest training set might be 500, with sizes 500, 1000, 2000, 4000, 8000, 16000, 32000, and perhaps 60000 if you have time. (You get no extra marks for doing very long experiments.) "
      ]
    },
    {
      "cell_type": "code",
      "metadata": {
        "id": "1CV2OHM-CLpE",
        "outputId": "f317fde0-b260-4bd8-a91a-3b735f51d7f4"
      },
      "source": [
        "transform_list = transforms.Compose([ transforms.ToTensor(), transforms.Normalize(mean=[0.0], std=[1.0,]) ] )\n",
        "mnist_trainset = datasets.MNIST(root='./data', train=True, download=True, transform=transform_list)\n",
        "mnist_testset = datasets.MNIST(root='./data', train=False, download=True, transform=transform_list)"
      ],
      "execution_count": null,
      "outputs": [
        {
          "name": "stderr",
          "output_type": "stream",
          "text": [
            "/home/cim/pgt/mjac097/.local/lib/python3.8/site-packages/torchvision/datasets/mnist.py:498: UserWarning: The given NumPy array is not writeable, and PyTorch does not support non-writeable tensors. This means you can write to the underlying (supposedly non-writeable) NumPy array using the tensor. You may want to copy the array to protect its data or make it writeable before converting it to a tensor. This type of warning will be suppressed for the rest of this program. (Triggered internally at  /pytorch/torch/csrc/utils/tensor_numpy.cpp:180.)\n",
            "  return torch.from_numpy(parsed.astype(m[2], copy=False)).view(*s)\n"
          ]
        }
      ]
    },
    {
      "cell_type": "markdown",
      "metadata": {
        "id": "PGQPxPXnCLpH"
      },
      "source": [
        "## Set up model \n",
        "\n",
        "Set up a Pytorch model (you may find it helpful to keep it simple and fast to train). Train on an intermediate-sized dataset (if you are using MNIST, say 2000 or 4000). \n",
        "\n",
        "\n",
        "Plot the loss and error rate as a function of training epochs. \n",
        "\n",
        "\n",
        "###  1.  Assessment of initial model:\n",
        "\n",
        "Ensure that your model is complex enough to *overfit* the training data: that is the loss/error-rate on the training set should be below your target loss/error-rate, and the loss/error-rate on the validation set should be higher than this (preferably higher than your target error-rate). "
      ]
    },
    {
      "cell_type": "code",
      "metadata": {
        "id": "oJBLRKcXCLpI"
      },
      "source": [
        "# your code here (you can freely used and modify code from course lab-sheets throughout this project)\n",
        "\n",
        "class NN1(nn.Module):\n",
        "    \n",
        "    def __init__(self): \n",
        "        super(NN1, self).__init__()\n",
        "        self.layers = nn.Sequential( \n",
        "            nn.Flatten(), \n",
        "            nn.Linear(784,10)) \n",
        "        \n",
        "    def forward( self, x ):\n",
        "        x = self.layers( x )\n",
        "        return x"
      ],
      "execution_count": null,
      "outputs": []
    },
    {
      "cell_type": "code",
      "metadata": {
        "id": "zxcTkv3ICLpJ"
      },
      "source": [
        "def train(neural_net,data,size,optimizer,loss_function,calc_error_rate = False):\n",
        "    data =  [ data[i] for i in range(0,size) ] \n",
        "    trainloader = torch.utils.data.DataLoader( data, batch_size=32, shuffle=True)\n",
        "    loss=[]\n",
        "    accuracy = []\n",
        "    for epoch in range(200): \n",
        "        current_loss = 0.0 \n",
        "        n_mini_batches = 0\n",
        "        for images, labels in trainloader:\n",
        "            optimizer.zero_grad()\n",
        "            lf = loss_function ( neural_net(images), labels )\n",
        "            lf.backward() \n",
        "            optimizer.step()\n",
        "            n_mini_batches += 1 \n",
        "            current_loss += lf.item() \n",
        "        loss.append(current_loss / n_mini_batches)\n",
        "        if calc_error_rate:\n",
        "            accuracy.append(test(neural_net,data))\n",
        "    if calc_error_rate:\n",
        "        return loss,accuracy \n",
        "    return loss\n",
        "       "
      ],
      "execution_count": null,
      "outputs": []
    },
    {
      "cell_type": "code",
      "metadata": {
        "id": "7al9u62PCLpK"
      },
      "source": [
        "def test(neural_net,data):\n",
        "    testloader = torch.utils.data.DataLoader( data, batch_size=32, shuffle=True)\n",
        "    correct = 0 \n",
        "    total = 0 \n",
        "    with torch.no_grad():  \n",
        "        for images, labels in testloader:\n",
        "            _, predicted = torch.max(neural_net(images), dim=1)\n",
        "            total += labels.size(0)\n",
        "            correct += (predicted == labels).sum().item() \n",
        "    return(100 * correct/total)"
      ],
      "execution_count": null,
      "outputs": []
    },
    {
      "cell_type": "code",
      "metadata": {
        "id": "f0Wbogy7CLpK"
      },
      "source": [
        "neural_net = NN1()\n",
        "optimizer = optim.RMSprop(neural_net.parameters(), lr=0.0001 )\n",
        "loss_function = nn.CrossEntropyLoss()\n",
        "loss,accuracy = train(neural_net,mnist_trainset,4000,optimizer,loss_function,calc_error_rate = True)\n"
      ],
      "execution_count": null,
      "outputs": []
    },
    {
      "cell_type": "markdown",
      "metadata": {
        "id": "DB_af838CLpL"
      },
      "source": [
        "### Loss as a function of training epoch"
      ]
    },
    {
      "cell_type": "code",
      "metadata": {
        "scrolled": true,
        "id": "fT50vxd3CLpM",
        "outputId": "9280e2bc-6b58-493d-cbcd-dfd75d57d610"
      },
      "source": [
        "plt.plot(loss)\n",
        "plt.title(\"Loss as a function of training epoch\")\n",
        "plt.xlabel(\"Epochs\")\n",
        "plt.ylabel(\"Loss\")\n",
        "pass"
      ],
      "execution_count": null,
      "outputs": [
        {
          "data": {
            "image/png": "[encoded data removed]",
            "text/plain": [
              "<Figure size 432x288 with 1 Axes>"
            ]
          },
          "metadata": {
            "needs_background": "light"
          },
          "output_type": "display_data"
        }
      ]
    },
    {
      "cell_type": "markdown",
      "metadata": {
        "id": "ZKj35by4CLpN"
      },
      "source": [
        "### Error rate as a function of training epoch"
      ]
    },
    {
      "cell_type": "code",
      "metadata": {
        "id": "RJXuFefTCLpN",
        "outputId": "80eb55c1-2554-4481-d63b-77c0e498a9ae"
      },
      "source": [
        "error_rate = 100-np.array(accuracy)\n",
        "plt.plot(error_rate)\n",
        "plt.title(\"Error rate as a function of training epoch\")\n",
        "plt.xlabel(\"Epochs\")\n",
        "plt.ylabel(\"Error rate(%)\")\n",
        "pass"
      ],
      "execution_count": null,
      "outputs": [
        {
          "data": {
            "image/png": "[encoded data removed]",
            "text/plain": [
              "<Figure size 432x288 with 1 Axes>"
            ]
          },
          "metadata": {
            "needs_background": "light"
          },
          "output_type": "display_data"
        }
      ]
    },
    {
      "cell_type": "code",
      "metadata": {
        "id": "yhvobR0kCLpO",
        "outputId": "3ac8305c-0a28-4a06-a43e-ee4b8cc72e02"
      },
      "source": [
        "test_set_accuracy = test(neural_net,mnist_testset)\n",
        "print(f\"Accuracy for test set = {test_set_accuracy}%\")\n"
      ],
      "execution_count": null,
      "outputs": [
        {
          "name": "stdout",
          "output_type": "stream",
          "text": [
            "Accuracy for test set = 90.32%\n"
          ]
        }
      ]
    },
    {
      "cell_type": "markdown",
      "metadata": {
        "id": "c8O44_X9CLpP"
      },
      "source": [
        "### 2.  Regularisation experiment: \n",
        "\n",
        "Now select a type of regularisation (which may be L2, or dropout) and train your initial model with different amounts of regularisation. \n",
        "\n",
        "For L2 regularisation, compare 0 regularisation with very small amounts of regularisation -- try 0.0001, 0.001, 0.01, and see for what level of L2 regularisation there starts to be an effect. \n",
        "\n",
        "A small amount of regularisation may improve the validation set performance of your overfitted model; too much regularisation may make performance on the validation set worse. \n",
        "\n",
        "Train your model multiple times, applying different amounts of regularisation, and plot a graph showing the effect of different amounts of regularisation. \n",
        "\n",
        "Plot the amount of regularisation along the x axis, and the validation set performance (loss/error-rate) on the y axis.  How does regularisation affect the performance of your initial network, and what is the optimal amount? "
      ]
    },
    {
      "cell_type": "code",
      "metadata": {
        "id": "jBN_E_8eCLpQ"
      },
      "source": [
        "# your code here \n",
        "\n",
        "L2_regularisation = [0,0.0001, 0.001, 0.01,0.1]\n",
        "accuracy = []\n",
        "for l2 in L2_regularisation:\n",
        "    neural_net = NN1()\n",
        "    optimizer = optim.RMSprop(neural_net.parameters(), lr=0.0001,weight_decay = l2 )\n",
        "    loss = train(neural_net,mnist_trainset,4000,optimizer,loss_function)\n",
        "    accuracy.append(test(neural_net,mnist_testset))\n"
      ],
      "execution_count": null,
      "outputs": []
    },
    {
      "cell_type": "code",
      "metadata": {
        "id": "NtTaLufRCLpQ",
        "outputId": "cc530e27-a74a-48a0-8a89-9cb0115c0693"
      },
      "source": [
        "error_rate = 100-np.array(accuracy)\n",
        "plt.plot(L2_regularisation,error_rate)\n",
        "plt.title(\"Error rate vs Regularisation\")\n",
        "plt.xlabel(\"L2 regularisation\")\n",
        "plt.ylabel(\"Error rate(%)\")\n",
        "pass"
      ],
      "execution_count": null,
      "outputs": [
        {
          "data": {
            "image/png": "[encoded data removed]",
            "text/plain": [
              "<Figure size 432x288 with 1 Axes>"
            ]
          },
          "metadata": {
            "needs_background": "light"
          },
          "output_type": "display_data"
        }
      ]
    },
    {
      "cell_type": "markdown",
      "metadata": {
        "id": "KK7c5YmqCLpR"
      },
      "source": [
        "As the regularisation increases, the error rate is observed to increase. This means that the performance of the neural network decreases. Since the applied learning rate is very low, adding regularisation does not do anything to improve the performance."
      ]
    },
    {
      "cell_type": "code",
      "metadata": {
        "id": "K5RtaM5vCLpS",
        "outputId": "080ddd07-008d-4d3c-ecb0-d599f6820c5a"
      },
      "source": [
        "optimal_l2 = L2_regularisation[error_rate.argmin()]\n",
        "print(f\"Optimal l2 = {optimal_l2}\")\n",
        "print(f\"Minimum error rate = {error_rate.min()}%\")\n"
      ],
      "execution_count": null,
      "outputs": [
        {
          "name": "stdout",
          "output_type": "stream",
          "text": [
            "Optimal l2 = 0\n",
            "Minimum error rate = 9.629999999999995%\n"
          ]
        }
      ]
    },
    {
      "cell_type": "markdown",
      "metadata": {
        "id": "4OFKgxA-CLpS"
      },
      "source": [
        "### 3.  Learning curve experiment:  \n",
        "\n",
        "Now train your model (with the amount of regularisation you selected) on different amounts of training data. \n",
        "\n",
        "Plot the performance (loss/error-rate) of the model on the validation set against the size of the training set. \n",
        "This is typically best done on a log-log plot. \n",
        "\n",
        "Describe the approximate relationship between the training set size and loss / error-rate.  Does the network performance appear to improve as some power of the amount of data in the training set?  If so, by what power ? \n",
        "\n",
        "For example, a very good rate of improvement is for error-rate to be proportional to $\\dfrac{1}{\\sqrt{n}}$ where $n$ is the training set size.  For your model, the rate of improvement of validation error with training set size may not be as fast as this (or it may, who knows?)  The aim of this exercise is to find out what it actually is. "
      ]
    },
    {
      "cell_type": "code",
      "metadata": {
        "id": "Dj7HswRYCLpT"
      },
      "source": [
        "# your code here\n",
        "training_set_sizes= [500, 1000, 2000, 4000, 8000, 16000, 32000]\n",
        "accuracy_first_model = []\n",
        "for size in training_set_sizes:\n",
        "    neural_net = NN1()\n",
        "    optimizer = optim.RMSprop(neural_net.parameters(), lr=0.0001,weight_decay = optimal_l2 )\n",
        "    loss = train(neural_net,mnist_trainset,size,optimizer,loss_function)\n",
        "    accuracy_first_model.append(test(neural_net,mnist_testset))"
      ],
      "execution_count": null,
      "outputs": []
    },
    {
      "cell_type": "code",
      "metadata": {
        "id": "4ZJZ46NVCLpU",
        "outputId": "bf6cdc68-d1bb-43c3-9969-da728f6438de"
      },
      "source": [
        "error_rate_first_model = 100-np.array(accuracy_first_model)\n",
        "plt.loglog(training_set_sizes,error_rate_first_model)\n",
        "plt.title(\"Error rate vs Training set size\")\n",
        "plt.xlabel(\"Training set size\")\n",
        "plt.ylabel(\"Error rate(%)\")\n",
        "pass"
      ],
      "execution_count": null,
      "outputs": [
        {
          "data": {
            "image/png": "[encoded data removed]",
            "text/plain": [
              "<Figure size 432x288 with 1 Axes>"
            ]
          },
          "metadata": {
            "needs_background": "light"
          },
          "output_type": "display_data"
        }
      ]
    },
    {
      "cell_type": "markdown",
      "metadata": {
        "id": "vYqbkUyeCLpV"
      },
      "source": [
        "As we increase the training set size, the error rate is observed to decrease. The shape of the graph is similar to the graph obtained for a 1/√n graph. Therefore we can say that the error rate is decreasing at a rate proportional to 1/√n where n is the training set size."
      ]
    },
    {
      "cell_type": "markdown",
      "metadata": {
        "id": "lPguboQPCLpW"
      },
      "source": [
        "### 4. Second model:   \n",
        "\n",
        "Devise what you believe to be a better neural network architecture for the problem (e.g. for MNIST you might use a fully-connected network for your initial model, and then try a convolutional net for your second model).\n",
        "\n",
        "Repeat sections 2 (regularisation experiment), and determine whether it has better validation set performance than the first model, for an intermediate size of training set (e.g. 2000 or 4000 for the MNIST data). \n",
        "\n",
        "Repeat section 3. Does your model have a different learning curve from the first? Plot the learning curves for the first and second model on the same graph, to compare them. Comment: is there a more rapid reduction of error-rate with training set size for your second model?  "
      ]
    },
    {
      "cell_type": "code",
      "metadata": {
        "id": "hxUxaP-6CLpW"
      },
      "source": [
        "# your code here\n",
        "class Conv_NN1(NN1):\n",
        "    \n",
        "    def __init__(self): \n",
        "        super(NN1, self).__init__()\n",
        "        self.layers = nn.Sequential(  \n",
        "            nn.Conv2d(1,10,kernel_size = 28),\n",
        "            nn.Flatten()\n",
        "        ) "
      ],
      "execution_count": null,
      "outputs": []
    },
    {
      "cell_type": "code",
      "metadata": {
        "id": "O-yTUMkVCLpX"
      },
      "source": [
        "L2_regularisation = [0,0.0001, 0.001, 0.01,0.1]\n",
        "accuracy = []\n",
        "for l2 in L2_regularisation:\n",
        "    neural_net = Conv_NN1()\n",
        "    optimizer = optim.RMSprop(neural_net.parameters(), lr=0.0001,weight_decay = l2 )\n",
        "    loss = train(neural_net,mnist_trainset,4000,optimizer,loss_function)\n",
        "    accuracy.append(test(neural_net,mnist_testset))"
      ],
      "execution_count": null,
      "outputs": []
    },
    {
      "cell_type": "code",
      "metadata": {
        "id": "f-_rh_DACLpX",
        "outputId": "367b4f30-1963-4042-e2c3-7247d0fc992c"
      },
      "source": [
        "error_rate_conv = 100-np.array(accuracy)\n",
        "plt.plot(L2_regularisation,error_rate_conv)\n",
        "plt.title(\"Error rate vs Regularisation\")\n",
        "plt.xlabel(\"L2 regularisation\")\n",
        "plt.ylabel(\"Error rate(%)\")\n",
        "pass"
      ],
      "execution_count": null,
      "outputs": [
        {
          "data": {
            "image/png": "[encoded data removed]",
            "text/plain": [
              "<Figure size 432x288 with 1 Axes>"
            ]
          },
          "metadata": {
            "needs_background": "light"
          },
          "output_type": "display_data"
        }
      ]
    },
    {
      "cell_type": "markdown",
      "metadata": {
        "id": "aWzjG8u3CLpY"
      },
      "source": [
        "There does not seem to be a big difference in the two models. The convolutional model gives a slightly lower error rate than the first model."
      ]
    },
    {
      "cell_type": "code",
      "metadata": {
        "id": "qYrroqoBCLpY",
        "outputId": "12b3b1bc-950a-4cca-87be-19586b83abd2"
      },
      "source": [
        "optimal_l2_conv = L2_regularisation[error_rate_conv.argmin()]\n",
        "print(f\"Optimal l2 = {optimal_l2_conv}\")\n",
        "print(f\"Minimum error rate = {error_rate_conv.min()}%\")\n"
      ],
      "execution_count": null,
      "outputs": [
        {
          "name": "stdout",
          "output_type": "stream",
          "text": [
            "Optimal l2 = 0\n",
            "Minimum error rate = 9.650000000000006%\n"
          ]
        }
      ]
    },
    {
      "cell_type": "code",
      "metadata": {
        "id": "ckhudlAXCLpZ"
      },
      "source": [
        "training_set_sizes_conv= [500, 1000, 2000, 4000, 8000, 16000, 32000]\n",
        "#training_set_sizes= [500, 1000]\n",
        "accuracy_conv = []\n",
        "for size in training_set_sizes_conv:\n",
        "    neural_net = Conv_NN1()\n",
        "    optimizer = optim.RMSprop(neural_net.parameters(), lr=0.0001,weight_decay = optimal_l2_conv )\n",
        "    loss = train(neural_net,mnist_trainset,size,optimizer,loss_function)\n",
        "    accuracy_conv.append(test(neural_net,mnist_testset))"
      ],
      "execution_count": null,
      "outputs": []
    },
    {
      "cell_type": "code",
      "metadata": {
        "id": "J-Hhm9N4CLpa",
        "outputId": "6b6b6302-dfcd-402b-9956-cd41cb54c268"
      },
      "source": [
        "error_rate_conv = 100-np.array(accuracy_conv)\n",
        "plt.loglog(training_set_sizes_conv,error_rate_conv,label = \"Initial Model\")\n",
        "plt.loglog(training_set_sizes,error_rate_first_model,label = \"Convolutional Model\")\n",
        "plt.title(\"Error rate vs Training set size(Comparison)\")\n",
        "plt.xlabel(\"Training set size\")\n",
        "plt.ylabel(\"Error rate(%)\")\n",
        "plt.legend()\n",
        "pass"
      ],
      "execution_count": null,
      "outputs": [
        {
          "data": {
            "image/png": "[encoded data removed]",
            "text/plain": [
              "<Figure size 432x288 with 1 Axes>"
            ]
          },
          "metadata": {
            "needs_background": "light"
          },
          "output_type": "display_data"
        }
      ]
    },
    {
      "cell_type": "markdown",
      "metadata": {
        "id": "IreexUc7CLpa"
      },
      "source": [
        "Both models give a similar learning curve."
      ]
    },
    {
      "cell_type": "code",
      "metadata": {
        "id": "1uUfdG3GCLpb"
      },
      "source": [
        ""
      ],
      "execution_count": null,
      "outputs": []
    }
  ]
}